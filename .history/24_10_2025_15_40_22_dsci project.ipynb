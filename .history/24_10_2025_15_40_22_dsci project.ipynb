{
 "cells": [
  {
   "cell_type": "markdown",
   "id": "cb9e72c3-f07c-451d-9428-5c21469349a7",
   "metadata": {},
   "source": [
    "# Data Science Project: Planning Stage (Individual)\n",
    "\n",
    "Olivia Liang\n",
    "\n",
    "---\n",
    "\n",
    "## 1. Data Description\n",
    "\n",
    "The dataset comes from a Minecraft research server operated by the UBC Computer Science research group. It is designed to record how players interact with the game over time. Two related files are provided:\n",
    "\n",
    "\"players.csv\", which records demographic and gameplay characteristics for each unique player  \n",
    "\"session.csv\", which logs each player's individual play sessions  \n",
    "\n",
    "The players dataset includes seven variables:  \n",
    "- \"experience\": categorical, player skill level (Beginner -> Pro)  \n",
    "- \"subscribe\": binary, newsletter subscription (TRUE/FALSE)  \n",
    "- \"hashedEmail\": unique player ID  \n",
    "- \"played_hours\": numeric, total time played  \n",
    "- \"name\": player name (anonymized with only first name)  \n",
    "- \"gender\": player's self-identified gender  \n",
    "- \"age\": numeric, player age  \n",
    "\n",
    "The sessions dataset includes:  \n",
    "- \"hashedEmail\": player ID linking to \"players\"  \n",
    "- \"start_time\": Datetime with a standardized timestamp for when a session began  \n",
    "- \"end_time\": Datetime with a standardized timestamp for when a session ended  \n",
    "- \"original_start_time\": Numeric with a raw timestamp in milliseconds  \n",
    "- \"original_end_time\": Numeric with a raw end timestamp in milliseconds  \n",
    "\n",
    "Potential issues:  \n",
    "- Time precision: The played_hours column records total playtime rounded to one decimal place, so exact durations are approximate rather than precise  \n",
    "- Timestamp precision: some \"original_*\" values are very large and appear identical due to scientific notation, though they might differ slightly  \n",
    "- Age accuracy: the dataset includes some outliers, low ages (e.g. 9, 11), which may reflect user entry errors or test data. These values can distort summary statistics and should be checked before modelling  \n",
    "- Redundant time columns: Both raw and standardized timestamps exist; one pair should be used consistently  \n",
    "\n",
    "---\n",
    "\n",
    "## 2. Question\n",
    "\n",
    "Broad question: What player characteristics and behaviours are most predictive of subscribing to a game-related newsletter, and how do these features differ between various player types?  \n",
    "\n",
    "Specific question: Can player demographics (Age, gender), experience level, and total playtime predict whether a player subscribes to the newsletter?  \n",
    "\n",
    "Response variable: binary variable indicating whether a player subscribed (TRUE) or not (FALSE)  \n",
    "Explanatory variables: Age, gender, experience, played_hours  \n",
    "\n",
    "This project is a classification task that aims to predict subscribe (TRUE/FALSE) using demographic and behavioural data.  \n",
    "\n",
    "The dataset provides demographic and behavioural information that directly supports this question. Each row in players.csv represents one player, including their age, gender, experience level, total hours played, and whether they subscribed. These features can be used to explore which characteristics are most associated with newsletter subscription.  \n",
    "\n",
    "To prepare the data for analysis, the following wrangling steps will be done:  \n",
    "- Convert subscribe into a logical (TRUE/FALSE) variable for binary prediction  \n",
    "- Convert experience and gender into categorical factors  \n",
    "\n",
    "---\n",
    "\n",
    "## 3. Exploratory Data Analysis and Visualization\n",
    "\n",
    "3.1 Load and Inspect Data"
   ]
  },
  {
   "cell_type": "code",
   "execution_count": null,
   "id": "dcd0e675-013a-426a-8c59-49dfceaf9cf6",
   "metadata": {},
   "outputs": [],
   "source": [
    "library(tidyverse)"
   ]
  },
  {
   "cell_type": "code",
   "execution_count": null,
   "id": "dcfaaf4e-1420-4f57-96ff-8d3875d32c4a",
   "metadata": {},
   "outputs": [],
   "source": [
    "players <- read_csv(\"players.csv\")\n",
    "sessions <- read_csv(\"sessions.csv\")\n",
    "players\n",
    "sessions"
   ]
  },
  {
   "cell_type": "code",
   "execution_count": null,
   "id": "66d6c4c3-5128-4757-a53d-7f3e633b6921",
   "metadata": {},
   "outputs": [],
   "source": []
  },
  {
   "cell_type": "code",
   "execution_count": null,
   "id": "61fca34a-18a0-46ea-acfe-4aef6699de6d",
   "metadata": {},
   "outputs": [],
   "source": []
  }
 ],
 "metadata": {
  "kernelspec": {
   "display_name": "R",
   "language": "R",
   "name": "ir"
  },
  "language_info": {
   "codemirror_mode": "r",
   "file_extension": ".r",
   "mimetype": "text/x-r-source",
   "name": "R",
   "pygments_lexer": "r",
   "version": "4.3.3"
  }
 },
 "nbformat": 4,
 "nbformat_minor": 5
}
